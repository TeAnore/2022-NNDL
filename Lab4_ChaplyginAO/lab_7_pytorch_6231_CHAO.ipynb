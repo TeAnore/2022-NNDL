{
 "cells": [
  {
   "cell_type": "markdown",
   "id": "3546f256",
   "metadata": {},
   "source": [
    "# Лабораторная работа 7\n",
    "## Знакомство с Pytorch\n"
   ]
  },
  {
   "cell_type": "markdown",
   "id": "e4d719f6",
   "metadata": {},
   "source": [
    "1. Базовые операции\n",
    "\n",
    "    1.1.  Сгенерировать искусcтвенный набор данных, состоящий из 3 гауссовых облаков и визуализировать его (_Используйте torch.distributions_)\n",
    "    \n",
    "    1.2.  Выполните нормировку созданного набора данных\n",
    "    \n",
    "2. Реализация собственного набора данных с помощью `DatasetIterable`\n",
    "    \n",
    "    * Используйте документацию: https://pytorch.org/docs/stable/data.html#torch.utils.data.IterableDataset\n",
    "    * Подразумевается, что данные будут генерироваться внутри метода `__iter__`. Данный метод будет возвращать кортеж (data_sample, label). \n",
    "    \n",
    "    Например: `(torch.Tensor([0.0, 0.0]), 1)  # элемент набора данных (2 признака) и метка класса (класс №1)`\n",
    "    * В конструкторке класса должны быть созданы объекты распределений (`torch.distributions`, как в предыдущем задании)\n",
    "\n",
    "3. Примените предобученную нейронную сеть к вашему набору данных, используя `pytorch-lightning`\n",
    "\n",
    "    * Можете использовать любую нейронную сеть, доступную в `pytorch`\n",
    "    * Приветствуется применение логгирования в любую из систем: comet.ml, weightsAndBiases, Tensorboard (вы можете использовать [Logger](https://pytorch-lightning.readthedocs.io/en/latest/common/loggers.html) из pytorch-lightning)\n",
    "    * Также добавьте в pytorch_lightning.LightningModule вычисление какой-либо метрики, например F1-score (допускается использовать для этого scikit-learn)\n",
    "    * Сохраните лучшую модель\n",
    "    \n",
    "4. (Опционально) Используя `pytorch`, реализуйте любой алгоритм машинного обучения (дискриминантный анализ, k-means, перцептрон, и т.д.) и проверьте его на любом наборе данных. Пример реализации логистической регрессии:"
   ]
  },
  {
   "cell_type": "markdown",
   "id": "83b4bcbb",
   "metadata": {},
   "source": [
    "```python\n",
    "class LogisticRegression(nn.Module):\n",
    "    def __init__(self, dim, lr=torch.scalar_tensor(0.01)):\n",
    "        super(LogisticRegression, self).__init__()\n",
    "\n",
    "        self.w = torch.zeros(dim, 1, dtype=torch.float)\n",
    "        self.b = torch.scalar_tensor(0)\n",
    "        self.grads = {\n",
    "            \"dw\": torch.zeros(dim, 1, dtype=torch.float),\n",
    "            \"db\": torch.scalar_tensor(0)\n",
    "        }\n",
    "        self.lr = lr\n",
    "\n",
    "    def forward(self, x):\n",
    "        z = torch.mm(self.w.T, x)  # mm == Matrix Multiplication\n",
    "        a = self.sigmoid(z)\n",
    "        return a\n",
    "\n",
    "    def sigmoid(self, z):\n",
    "        return 1/(1 + torch.exp(-z))\n",
    "\n",
    "    def backward(self, x, y_hat, y):\n",
    "        self.grads[\"dw\"] = (1/x.shape[1]) * torch.mm(x, (y_hat - y).T)\n",
    "        self.grads[\"db\"] = (1/x.shape[1]) * torch.sum(y_hat - y)\n",
    "    \n",
    "    def optimize(self):\n",
    "        self.w = self.w - self.lr * self.grads[\"dw\"]\n",
    "        self.b = self.b - self.lr * self.grads[\"db\"]\n",
    "```"
   ]
  },
  {
   "cell_type": "code",
   "execution_count": 1,
   "id": "c6dc6921",
   "metadata": {},
   "outputs": [],
   "source": [
    "# INIT\n",
    "import math\n",
    "import copy\n",
    "import torch\n",
    "import torchvision\n",
    "import numpy as np\n",
    "import pandas as pd\n",
    "import datetime as dt\n",
    "import matplotlib.pyplot as plt\n",
    "\n",
    "\n",
    "import torch.distributions as tdist\n",
    "import torchvision.transforms as transforms\n",
    "\n",
    "from torch.utils.data import Dataset, DataLoader\n",
    "from torch.distributions import normal, Normal, MultivariateNormal, LKJCholesky, CumulativeDistributionTransform, Normal, TransformedDistribution, Dirichlet\n",
    "\n",
    "from sklearn.utils import shuffle\n",
    "from sklearn.datasets import make_moons\n",
    "from sklearn.model_selection import train_test_split\n",
    "from sklearn.linear_model import LogisticRegression\n",
    "from sklearn.metrics import confusion_matrix\n",
    "from sklearn.metrics import accuracy_score\n",
    "\n",
    "%matplotlib inline"
   ]
  },
  {
   "cell_type": "markdown",
   "id": "28f3ec1b-8ea3-4a23-9d1c-2bd55f80402d",
   "metadata": {},
   "source": [
    "### Tools"
   ]
  },
  {
   "cell_type": "code",
   "execution_count": 3,
   "id": "c8a26337-9064-436d-ba33-9d4050b5cca2",
   "metadata": {},
   "outputs": [
    {
     "ename": "IndentationError",
     "evalue": "unexpected indent (2275813290.py, line 6)",
     "output_type": "error",
     "traceback": [
      "\u001b[1;36m  Cell \u001b[1;32mIn [3], line 6\u001b[1;36m\u001b[0m\n\u001b[1;33m    self.start = start\u001b[0m\n\u001b[1;37m    ^\u001b[0m\n\u001b[1;31mIndentationError\u001b[0m\u001b[1;31m:\u001b[0m unexpected indent\n"
     ]
    }
   ],
   "source": [
    "class MyIterableDataset(torch.utils.data.IterableDataset):\n",
    "     def __init__(self, start, end):\n",
    "        super(MyIterableDataset).__init__()\n",
    "        \n",
    "        assert end > start, \"this example code only works with end >= start\"\n",
    "            self.start = start\n",
    "            self.end = end\n",
    "        \n",
    "        def __iter__(self):\n",
    "            worker_info = torch.utils.data.get_worker_info()\n",
    "...         if worker_info is None:  # single-process data loading, return the full iterator\n",
    "    \n",
    "    iter_start = self.start\n",
    "...             iter_end = self.end\n",
    "...         else:  # in a worker process\n",
    "...             # split workload\n",
    "...             per_worker = int(math.ceil((self.end - self.start) / float(worker_info.num_workers)))\n",
    "...             worker_id = worker_info.id\n",
    "...             iter_start = self.start + worker_id * per_worker\n",
    "...             iter_end = min(iter_start + per_worker, self.end)\n",
    "...         return iter(range(iter_start, iter_end))\n",
    "...\n",
    ">>> # should give same set of data as range(3, 7), i.e., [3, 4, 5, 6].\n",
    ">>> ds = MyIterableDataset(start=3, end=7)"
   ]
  },
  {
   "cell_type": "markdown",
   "id": "7181ba47-ff33-42fd-84e8-e277a0237249",
   "metadata": {},
   "source": [
    "### 1.1. Сгенерировать искусcтвенный набор данных, состоящий из 3 гауссовых облаков и визуализировать его (Используйте torch.distributions)"
   ]
  },
  {
   "cell_type": "code",
   "execution_count": null,
   "id": "51b62771-3d13-4765-af57-7078616015db",
   "metadata": {},
   "outputs": [],
   "source": [
    "def main (N,k) :\n",
    "    # Генерируем облака согласно заданию штук\n",
    "    clouds = []\n",
    "    for i in range(N):\n",
    "        clouds.append(noise + np.array([k*i,k*i]))\n",
    "    x = np.vstack(clouds)\n",
    "    \n",
    "    y = []\n",
    "    for i in range(N):\n",
    "        y+=[i] * clouds[i].shape[0]  # объединения списков; lists concatenation\n",
    "    \n",
    "    data, labels = shuffle(x, y)\n",
    "    \n",
    "    return clouds"
   ]
  },
  {
   "cell_type": "code",
   "execution_count": null,
   "id": "7c272a21-45d3-4fcc-8aad-e12b524cb9a4",
   "metadata": {},
   "outputs": [],
   "source": [
    "z = 0\n",
    "N = 3\n",
    "M = 797\n",
    "R1 = 0.743 \n",
    "R2 = 0.752\n",
    "\n",
    "m = Dirichlet(torch.tensor([R1, R2]))\n",
    "noise = m.sample([M,2])\n",
    "\n",
    "#m = normal.Normal(R1,R2)\n",
    "#noise = m.sample([M,2])\n",
    "\n",
    "for i in range(100, 200, 1):\n",
    "    clouds = main(N,i/100)\n",
    "\n",
    "for i in range(N):\n",
    "    plt.scatter(clouds[i][:, 0], clouds[i][:, 1], c='red', marker='o', edgecolors = 'black', alpha = 0.6)"
   ]
  },
  {
   "cell_type": "markdown",
   "id": "2f937d61-522e-4828-8a11-b08de9071097",
   "metadata": {},
   "source": [
    "### 1.2. Выполните нормировку созданного набора данных"
   ]
  },
  {
   "cell_type": "code",
   "execution_count": null,
   "id": "61f157ce-6d82-4cab-8597-577406a88406",
   "metadata": {},
   "outputs": [],
   "source": [
    "transform = transforms.Compose(\n",
    "    [transforms.ToTensor(),\n",
    "     transforms.Normalize((R1, R2), (R1))])\n",
    " \n",
    "trainset = clouds \n",
    "#torchvision.datasets.CIFAR10(root='./data', train=True, download=True, transform=transform)\n",
    "trainloader = torch.utils.data.DataLoader(trainset, batch_size=2, shuffle=True, num_workers=2)\n",
    "dataiter = iter(trainloader)\n",
    "data, labels = dataiter.next()"
   ]
  },
  {
   "cell_type": "code",
   "execution_count": null,
   "id": "493454ae-c7cc-4af4-8dd3-b1bcdcebe3fb",
   "metadata": {},
   "outputs": [],
   "source": [
    "data"
   ]
  },
  {
   "cell_type": "code",
   "execution_count": null,
   "id": "5e3bc5fc-956a-4d7c-8385-f37059e65ca8",
   "metadata": {},
   "outputs": [],
   "source": [
    "X_train, X_test, y_train, y_test = train_test_split(X, y, test_size=0.4, random_state=33)"
   ]
  },
  {
   "cell_type": "code",
   "execution_count": null,
   "id": "36612675-9bdf-4e88-bbdc-8c2b6a4a4e4a",
   "metadata": {},
   "outputs": [],
   "source": [
    "fig, (ax1, ax2) = plt.subplots(1, 2, figsize=(12,5))\n",
    "\n",
    "ax1.scatter(X_train[:,0][y_train == 0], X_train[:,1][y_train == 0], c='red', marker='o', edgecolors = 'black', alpha = 0.6)\n",
    "ax1.scatter(X_train[:,0][y_train == 1], X_train[:,1][y_train == 1], c='green', marker = 'o', edgecolors = 'black', alpha = 0.6)\n",
    "ax1.scatter(X_train[:,0][y_train == 2], X_train[:,1][y_train == 2], c='blue', marker = 'o', edgecolors = 'black', alpha = 0.6)\n",
    "ax1.set_title('Train', fontsize=20)\n",
    "\n",
    "ax2.scatter(X_test[:,0][y_test == 0], X_test[:,1][y_test == 0], c='red', marker='o', edgecolors = 'black', alpha = 0.6)\n",
    "ax2.scatter(X_test[:,0][y_test == 1], X_test[:,1][y_test == 1], c='green', marker = 'o', edgecolors = 'black', alpha = 0.6)\n",
    "ax2.scatter(X_test[:,0][y_test == 2], X_test[:,1][y_test == 2], c='blue', marker = 'o', edgecolors = 'black', alpha = 0.6)\n",
    "ax2.set_title('Test', fontsize=20);"
   ]
  },
  {
   "cell_type": "code",
   "execution_count": null,
   "id": "1ea41dd7-7122-4774-9e98-29dc42b6fb7b",
   "metadata": {},
   "outputs": [],
   "source": []
  }
 ],
 "metadata": {
  "kernelspec": {
   "display_name": "Python 3 (ipykernel)",
   "language": "python",
   "name": "python3"
  },
  "language_info": {
   "codemirror_mode": {
    "name": "ipython",
    "version": 3
   },
   "file_extension": ".py",
   "mimetype": "text/x-python",
   "name": "python",
   "nbconvert_exporter": "python",
   "pygments_lexer": "ipython3",
   "version": "3.10.7"
  }
 },
 "nbformat": 4,
 "nbformat_minor": 5
}
